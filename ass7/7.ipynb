{
 "cells": [
  {
   "cell_type": "code",
   "execution_count": 1,
   "id": "35604d53-1f40-4186-8f1c-fcba6dac3b9b",
   "metadata": {},
   "outputs": [],
   "source": [
    "import nltk\n",
    "from nltk import word_tokenize, sent_tokenize\n",
    "from nltk import pos_tag\n",
    "from nltk.corpus import stopwords\n",
    "from nltk.stem import PorterStemmer\n",
    "from nltk.stem import WordNetLemmatizer\n",
    "from sklearn.feature_extraction.text import TfidfVectorizer\n"
   ]
  },
  {
   "cell_type": "code",
   "execution_count": 2,
   "id": "8e889faf-0f37-44ce-843c-367dd43f524b",
   "metadata": {},
   "outputs": [],
   "source": [
    "text=\"Natural language processing (NLP) is a field of computer science, artificial intelligence, and linguistics concerned with the interactions between computers and human language.\""
   ]
  },
  {
   "cell_type": "code",
   "execution_count": 3,
   "id": "2035c5f5-229a-4adb-a88b-2b55d30228d0",
   "metadata": {},
   "outputs": [
    {
     "name": "stdout",
     "output_type": "stream",
     "text": [
      "['Natural', 'language', 'processing', '(', 'NLP', ')', 'is', 'a', 'field', 'of', 'computer', 'science', ',', 'artificial', 'intelligence', ',', 'and', 'linguistics', 'concerned', 'with', 'the', 'interactions', 'between', 'computers', 'and', 'human', 'language', '.']\n"
     ]
    }
   ],
   "source": [
    "print(word_tokenize(text))"
   ]
  },
  {
   "cell_type": "code",
   "execution_count": 4,
   "id": "899bc3d7-e175-4f0b-90f1-5d46e1ad4b5b",
   "metadata": {},
   "outputs": [
    {
     "name": "stdout",
     "output_type": "stream",
     "text": [
      "['Natural language processing (NLP) is a field of computer science, artificial intelligence, and linguistics concerned with the interactions between computers and human language.']\n"
     ]
    }
   ],
   "source": [
    "print(sent_tokenize(text))"
   ]
  },
  {
   "cell_type": "code",
   "execution_count": 5,
   "id": "4adcb32b-c126-48fb-a8c1-29bdae23c33a",
   "metadata": {},
   "outputs": [],
   "source": [
    "to_tag=word_tokenize(text)"
   ]
  },
  {
   "cell_type": "code",
   "execution_count": 6,
   "id": "ae72b896-3a3d-4b2f-b364-0638c6e0db71",
   "metadata": {},
   "outputs": [
    {
     "name": "stdout",
     "output_type": "stream",
     "text": [
      "[('Natural', 'JJ'), ('language', 'NN'), ('processing', 'NN'), ('(', '('), ('NLP', 'NNP'), (')', ')'), ('is', 'VBZ'), ('a', 'DT'), ('field', 'NN'), ('of', 'IN'), ('computer', 'NN'), ('science', 'NN'), (',', ','), ('artificial', 'JJ'), ('intelligence', 'NN'), (',', ','), ('and', 'CC'), ('linguistics', 'NNS'), ('concerned', 'VBN'), ('with', 'IN'), ('the', 'DT'), ('interactions', 'NNS'), ('between', 'IN'), ('computers', 'NNS'), ('and', 'CC'), ('human', 'JJ'), ('language', 'NN'), ('.', '.')]\n"
     ]
    }
   ],
   "source": [
    "print(pos_tag(to_tag))"
   ]
  },
  {
   "cell_type": "code",
   "execution_count": 7,
   "id": "8c08ed8d-5602-48eb-a5c1-094ab9fbd2a7",
   "metadata": {},
   "outputs": [
    {
     "name": "stdout",
     "output_type": "stream",
     "text": [
      "{'while', 'in', 'or', 'them', 'very', 'our', 'don', 'these', 'she', \"shan't\", 'aren', \"you'd\", 'nor', 'mightn', 'most', 'doing', 'any', 'shouldn', \"should've\", 'ain', 'all', 'myself', 'being', 'no', 'too', 'haven', 'only', 'yourselves', 'does', 't', 'then', 'below', 'this', \"needn't\", 'herself', 'again', 'had', 'there', 'are', \"doesn't\", 'of', \"isn't\", \"shouldn't\", 'm', 'should', 'above', 'some', 'up', 'his', 'your', 'were', 'such', 'the', 'during', 'here', 'each', 'been', 'needn', 'few', 'y', 'now', 'through', 'out', 'd', \"hadn't\", \"that'll\", 'if', 'hers', 'other', 'those', \"couldn't\", 'doesn', 'not', \"you'll\", 'for', 'between', 'down', 'further', 'couldn', \"don't\", 'at', 'when', 'was', 'into', 'whom', 'll', 'and', 'am', 'her', 'itself', 'a', 'from', 'they', 'ma', 'himself', \"didn't\", 'wouldn', 'ours', 'until', \"haven't\", 'he', 'same', 'did', 'against', 'so', \"aren't\", 'yours', 'hadn', 'as', 'isn', 'him', 'because', 'be', 'both', \"you've\", 'yourself', 'themselves', \"mightn't\", 'i', \"weren't\", 'how', 'to', \"she's\", 'will', 'once', \"hasn't\", 'but', 'can', \"it's\", 'after', 'me', 'just', 'before', 'having', 'own', 've', 'do', 'their', 'is', 'we', 's', 're', 'you', 'wasn', 'that', 'hasn', 'more', 'where', 'about', 'theirs', 'what', 'off', 'mustn', \"won't\", 'have', \"mustn't\", \"wasn't\", 'o', 'my', 'shan', 'ourselves', 'has', 'it', 'didn', 'than', 'by', 'weren', 'under', 'which', 'who', 'its', \"you're\", 'over', \"wouldn't\", 'on', 'won', 'an', 'with', 'why'}\n"
     ]
    }
   ],
   "source": [
    "stop_words=set(stopwords.words(\"english\"))\n",
    "print(stop_words)"
   ]
  },
  {
   "cell_type": "code",
   "execution_count": 8,
   "id": "99f61312-529e-4bee-89ce-446714aeae61",
   "metadata": {},
   "outputs": [],
   "source": [
    "to_clean=word_tokenize(text)"
   ]
  },
  {
   "cell_type": "code",
   "execution_count": 9,
   "id": "3682d088-cc8f-4464-b780-df80304ee0b3",
   "metadata": {},
   "outputs": [
    {
     "name": "stdout",
     "output_type": "stream",
     "text": [
      "['Natural', 'language', 'processing', '(', 'NLP', ')', 'field', 'computer', 'science', ',', 'artificial', 'intelligence', ',', 'linguistics', 'concerned', 'interactions', 'computers', 'human', 'language', '.']\n"
     ]
    }
   ],
   "source": [
    "no_stopwords_text=[]\n",
    "for token in to_clean:\n",
    "    if(token not in stop_words):\n",
    "        no_stopwords_text.append(token)\n",
    "\n",
    "print(no_stopwords_text)"
   ]
  },
  {
   "cell_type": "markdown",
   "id": "1db7fba4-d900-48cb-8cec-44bb0a70472b",
   "metadata": {},
   "source": [
    "stemming"
   ]
  },
  {
   "cell_type": "code",
   "execution_count": 10,
   "id": "76ff2ee7-4f5e-45db-90ba-cc084a3fcf8f",
   "metadata": {},
   "outputs": [],
   "source": [
    "stemmer=PorterStemmer()"
   ]
  },
  {
   "cell_type": "code",
   "execution_count": 11,
   "id": "ab91a792-e6af-4acd-b5ce-f6d858ffc6fd",
   "metadata": {},
   "outputs": [],
   "source": [
    "stemmed_words=[]\n",
    "for token in no_stopwords_text:\n",
    "    stemmed_word=stemmer.stem(token)\n",
    "    stemmed_words.append(stemmed_word)"
   ]
  },
  {
   "cell_type": "code",
   "execution_count": 12,
   "id": "82fc6f4c-f70a-4178-8de7-11ac75ce5c2a",
   "metadata": {},
   "outputs": [
    {
     "name": "stdout",
     "output_type": "stream",
     "text": [
      "['natur', 'languag', 'process', '(', 'nlp', ')', 'field', 'comput', 'scienc', ',', 'artifici', 'intellig', ',', 'linguist', 'concern', 'interact', 'comput', 'human', 'languag', '.']\n"
     ]
    }
   ],
   "source": [
    "print(stemmed_words)"
   ]
  },
  {
   "cell_type": "markdown",
   "id": "919997c2-44d0-48e0-affb-8fc7fe7b91d7",
   "metadata": {},
   "source": [
    "lemmatiztion\n"
   ]
  },
  {
   "cell_type": "code",
   "execution_count": 13,
   "id": "a862ef86-8ce7-4de8-8469-462a4325e2da",
   "metadata": {},
   "outputs": [],
   "source": [
    "lemmatizer= WordNetLemmatizer()"
   ]
  },
  {
   "cell_type": "code",
   "execution_count": 14,
   "id": "5c8a358b-0bf5-44ac-b8ab-37069945e619",
   "metadata": {},
   "outputs": [
    {
     "name": "stdout",
     "output_type": "stream",
     "text": [
      "['Natural', 'language', 'processing', '(', 'NLP', ')', 'field', 'computer', 'science', ',', 'artificial', 'intelligence', ',', 'linguistics', 'concerned', 'interaction', 'computer', 'human', 'language', '.']\n"
     ]
    }
   ],
   "source": [
    "lemmatized_words=[]\n",
    "for token in no_stopwords_text:\n",
    "    lemmatized=lemmatizer.lemmatize(token)\n",
    "    lemmatized_words.append(lemmatized)\n",
    "\n",
    "print(lemmatized_words)"
   ]
  },
  {
   "cell_type": "markdown",
   "id": "e735a82a-d1e5-4e42-90ea-dceadaf4120c",
   "metadata": {},
   "source": [
    "Vectorization\n"
   ]
  },
  {
   "cell_type": "code",
   "execution_count": 15,
   "id": "79ea0c65-fe62-43fa-88df-6408d0afe024",
   "metadata": {},
   "outputs": [],
   "source": [
    "vectorizer = TfidfVectorizer()\n"
   ]
  },
  {
   "cell_type": "code",
   "execution_count": 16,
   "id": "14eebf0e-42a2-4707-a59c-bab1fd2397b4",
   "metadata": {},
   "outputs": [],
   "source": [
    "corpus= [\n",
    "    \"I love to eat pizza\",\n",
    "    \"Pizza is my favorite food\",\n",
    "    \"I enjoy eating pizza with friends\",\n",
    "    \"I like to have pizza for dinner\",\n",
    "    \"Pizza toppings include cheese, pepperoni, and mushrooms\"\n",
    "]"
   ]
  },
  {
   "cell_type": "code",
   "execution_count": 17,
   "id": "c83c0e96-0613-4d35-b440-eabb3acc7ead",
   "metadata": {},
   "outputs": [],
   "source": [
    "vecotrizer= TfidfVectorizer()"
   ]
  },
  {
   "cell_type": "code",
   "execution_count": 18,
   "id": "0f24d871-1e5e-4027-bfcc-9ff692545792",
   "metadata": {},
   "outputs": [],
   "source": [
    "tfidf_matrix = vectorizer.fit_transform(corpus)\n",
    "feature_names= vectorizer.get_feature_names_out()"
   ]
  },
  {
   "cell_type": "code",
   "execution_count": 19,
   "id": "76d0b3be-ac0b-427f-a77f-aa6575ae0916",
   "metadata": {},
   "outputs": [
    {
     "name": "stdout",
     "output_type": "stream",
     "text": [
      "  (0, 18)\t0.2808823162882302\n",
      "  (0, 3)\t0.5894630806320427\n",
      "  (0, 19)\t0.47557510189256375\n",
      "  (0, 14)\t0.5894630806320427\n",
      "  (1, 7)\t0.48638584746139363\n",
      "  (1, 6)\t0.48638584746139363\n",
      "  (1, 16)\t0.48638584746139363\n",
      "  (1, 12)\t0.48638584746139363\n",
      "  (1, 18)\t0.2317654623904255\n",
      "  (2, 9)\t0.48638584746139363\n",
      "  (2, 21)\t0.48638584746139363\n",
      "  (2, 4)\t0.48638584746139363\n",
      "  (2, 5)\t0.48638584746139363\n",
      "  (2, 18)\t0.2317654623904255\n",
      "  (3, 2)\t0.4527727535876864\n",
      "  (3, 8)\t0.4527727535876864\n",
      "  (3, 10)\t0.4527727535876864\n",
      "  (3, 13)\t0.4527727535876864\n",
      "  (3, 18)\t0.21574864305928557\n",
      "  (3, 19)\t0.3652942067054634\n",
      "  (4, 15)\t0.4007361920444453\n",
      "  (4, 0)\t0.4007361920444453\n",
      "  (4, 17)\t0.4007361920444453\n",
      "  (4, 1)\t0.4007361920444453\n",
      "  (4, 11)\t0.4007361920444453\n",
      "  (4, 20)\t0.4007361920444453\n",
      "  (4, 18)\t0.19095294266992674\n"
     ]
    }
   ],
   "source": [
    "print(tfidf_matrix)"
   ]
  },
  {
   "cell_type": "code",
   "execution_count": 20,
   "id": "4fe84d85-f03b-435c-8aef-bc8e75bde77a",
   "metadata": {},
   "outputs": [
    {
     "name": "stdout",
     "output_type": "stream",
     "text": [
      "['and' 'cheese' 'dinner' 'eat' 'eating' 'enjoy' 'favorite' 'food' 'for'\n",
      " 'friends' 'have' 'include' 'is' 'like' 'love' 'mushrooms' 'my'\n",
      " 'pepperoni' 'pizza' 'to' 'toppings' 'with']\n"
     ]
    }
   ],
   "source": [
    "print(feature_names)"
   ]
  },
  {
   "cell_type": "code",
   "execution_count": null,
   "id": "40bfb55c-b97c-46e4-96c1-45de190260e0",
   "metadata": {},
   "outputs": [],
   "source": []
  }
 ],
 "metadata": {
  "kernelspec": {
   "display_name": "Python 3 (ipykernel)",
   "language": "python",
   "name": "python3"
  },
  "language_info": {
   "codemirror_mode": {
    "name": "ipython",
    "version": 3
   },
   "file_extension": ".py",
   "mimetype": "text/x-python",
   "name": "python",
   "nbconvert_exporter": "python",
   "pygments_lexer": "ipython3",
   "version": "3.11.9"
  }
 },
 "nbformat": 4,
 "nbformat_minor": 5
}
