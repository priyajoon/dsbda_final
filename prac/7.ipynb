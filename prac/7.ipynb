{
 "cells": [
  {
   "cell_type": "code",
   "execution_count": 2,
   "id": "648f6d6b-76fd-438e-aee2-3e9234a23fe1",
   "metadata": {},
   "outputs": [],
   "source": [
    "import nltk\n",
    "from nltk import word_tokenize, sent_tokenize\n",
    "from nltk import pos_tag\n",
    "from nltk.corpus import stopwords\n",
    "from nltk.stem import PorterStemmer\n",
    "from nltk.stem import WordNetLemmatizer\n",
    "from sklearn.feature_extraction.text import TfidfVectorizer\n"
   ]
  },
  {
   "cell_type": "code",
   "execution_count": 3,
   "id": "6b01c7be-cc31-4ce1-a8e4-b48b152246e9",
   "metadata": {},
   "outputs": [],
   "source": [
    "text=\"Natural language processing (NLP) is a field of computer science, artificial intelligence, and linguistics concerned with the interactions between computers and human language.\""
   ]
  },
  {
   "cell_type": "code",
   "execution_count": 4,
   "id": "a81e36c9-67cd-455a-a76a-86f7d3511f48",
   "metadata": {},
   "outputs": [
    {
     "name": "stdout",
     "output_type": "stream",
     "text": [
      "['Natural', 'language', 'processing', '(', 'NLP', ')', 'is', 'a', 'field', 'of', 'computer', 'science', ',', 'artificial', 'intelligence', ',', 'and', 'linguistics', 'concerned', 'with', 'the', 'interactions', 'between', 'computers', 'and', 'human', 'language', '.']\n"
     ]
    }
   ],
   "source": [
    "print(word_tokenize(text))"
   ]
  },
  {
   "cell_type": "code",
   "execution_count": 5,
   "id": "e8da5d12-158e-45a0-911a-c20589b616d7",
   "metadata": {},
   "outputs": [
    {
     "name": "stdout",
     "output_type": "stream",
     "text": [
      "['Natural language processing (NLP) is a field of computer science, artificial intelligence, and linguistics concerned with the interactions between computers and human language.']\n"
     ]
    }
   ],
   "source": [
    "print(sent_tokenize(text))"
   ]
  },
  {
   "cell_type": "code",
   "execution_count": 6,
   "id": "c0b2e054-ee44-470a-a41b-9d8b9922a383",
   "metadata": {},
   "outputs": [],
   "source": [
    "to_tag=word_tokenize(text)"
   ]
  },
  {
   "cell_type": "code",
   "execution_count": 7,
   "id": "b66b8752-9e20-49ad-b314-29d5f6e6e31a",
   "metadata": {},
   "outputs": [
    {
     "name": "stdout",
     "output_type": "stream",
     "text": [
      "[('Natural', 'JJ'), ('language', 'NN'), ('processing', 'NN'), ('(', '('), ('NLP', 'NNP'), (')', ')'), ('is', 'VBZ'), ('a', 'DT'), ('field', 'NN'), ('of', 'IN'), ('computer', 'NN'), ('science', 'NN'), (',', ','), ('artificial', 'JJ'), ('intelligence', 'NN'), (',', ','), ('and', 'CC'), ('linguistics', 'NNS'), ('concerned', 'VBN'), ('with', 'IN'), ('the', 'DT'), ('interactions', 'NNS'), ('between', 'IN'), ('computers', 'NNS'), ('and', 'CC'), ('human', 'JJ'), ('language', 'NN'), ('.', '.')]\n"
     ]
    }
   ],
   "source": [
    "print(pos_tag(to_tag))"
   ]
  },
  {
   "cell_type": "code",
   "execution_count": 9,
   "id": "9693699f-f139-46eb-bd47-8059b58de22c",
   "metadata": {},
   "outputs": [
    {
     "name": "stdout",
     "output_type": "stream",
     "text": [
      "{\"mightn't\", 'mustn', 'such', 'into', 'out', 'we', 'by', \"doesn't\", 'having', 'don', 'during', 'will', 'itself', 'mightn', 'there', 'on', 'myself', 'once', \"wasn't\", 'over', 'am', 'while', 'only', 'until', 'the', \"you've\", 'all', 'off', 'your', 'his', 'not', 'can', 'how', 'wouldn', 'these', 'have', 'and', 'between', 'both', 'be', 'any', 've', 'shouldn', 'after', 'here', \"shan't\", 'too', \"it's\", 'them', 'down', 'who', 'won', 'him', 'does', 'm', 'needn', \"you'd\", 'haven', 'their', 'at', 'it', 'hadn', \"needn't\", 'some', 'that', \"that'll\", 'ourselves', 'wasn', \"weren't\", 't', 'where', 'just', 'aren', 'shan', 'with', \"you'll\", \"isn't\", 'her', 'themselves', 'which', 'yours', 'its', 'they', 'my', 'yourselves', 'he', 'are', 'should', 'than', 'now', 'through', 's', 'then', 'against', 'ma', 'll', 'o', 'why', 'those', 'did', 'whom', 'further', 'ours', 'herself', 'has', 'from', 'of', 'an', 'being', 'ain', 'above', 'under', \"should've\", 'about', 'again', 'because', 'but', 'own', 'is', \"haven't\", \"she's\", 'this', 'isn', 'himself', 'a', 'y', 'doesn', 'me', 'our', 'you', 'what', 'theirs', 'so', 'd', 'was', \"hadn't\", 'or', 'had', 'few', \"didn't\", 'to', 'do', 'hers', 'as', 'when', 'she', 'before', 'same', 'i', \"don't\", \"hasn't\", \"wouldn't\", \"aren't\", 'couldn', 'didn', 'for', \"won't\", 'in', 'yourself', 'been', 'up', \"mustn't\", 'weren', 'other', 'nor', 'most', 'no', 'below', \"couldn't\", 'each', \"you're\", 'were', 'more', \"shouldn't\", 're', 'very', 'hasn', 'if', 'doing'}\n"
     ]
    }
   ],
   "source": [
    "stop_words=set(stopwords.words('english'))\n",
    "print(stop_words)"
   ]
  },
  {
   "cell_type": "code",
   "execution_count": 10,
   "id": "63b2abc8-d516-4a6a-b22c-2680e32f98f6",
   "metadata": {},
   "outputs": [],
   "source": [
    "to_clean=word_tokenize(text)"
   ]
  },
  {
   "cell_type": "code",
   "execution_count": 11,
   "id": "1ecbdecf-34b9-4625-829c-513b55dd65ff",
   "metadata": {},
   "outputs": [
    {
     "name": "stdout",
     "output_type": "stream",
     "text": [
      "['Natural', 'language', 'processing', '(', 'NLP', ')', 'field', 'computer', 'science', ',', 'artificial', 'intelligence', ',', 'linguistics', 'concerned', 'interactions', 'computers', 'human', 'language', '.']\n"
     ]
    }
   ],
   "source": [
    "no_stopwords_text=[]\n",
    "for token in to_clean:\n",
    "    if(token not in stop_words):\n",
    "        no_stopwords_text.append(token)\n",
    "\n",
    "print(no_stopwords_text)"
   ]
  },
  {
   "cell_type": "code",
   "execution_count": 12,
   "id": "79b5c8e2-1683-42fb-ac86-2ae26f027732",
   "metadata": {},
   "outputs": [],
   "source": [
    "stemmer=PorterStemmer()"
   ]
  },
  {
   "cell_type": "code",
   "execution_count": 14,
   "id": "8c702d98-6b7d-48c3-88c7-42e4dde1497e",
   "metadata": {},
   "outputs": [
    {
     "name": "stdout",
     "output_type": "stream",
     "text": [
      "['natur', 'languag', 'process', '(', 'nlp', ')', 'field', 'comput', 'scienc', ',', 'artifici', 'intellig', ',', 'linguist', 'concern', 'interact', 'comput', 'human', 'languag', '.']\n"
     ]
    }
   ],
   "source": [
    "stemmed_words=[]\n",
    "for token in no_stopwords_text:\n",
    "    stemmed_word=stemmer.stem(token)\n",
    "    stemmed_words.append(stemmed_word)\n",
    "\n",
    "print(stemmed_words)\n",
    "    "
   ]
  },
  {
   "cell_type": "code",
   "execution_count": 15,
   "id": "012f3949-da61-45ae-ac28-9dd4d46c8068",
   "metadata": {},
   "outputs": [],
   "source": [
    "lemmatizer=WordNetLemmatizer()"
   ]
  },
  {
   "cell_type": "code",
   "execution_count": 16,
   "id": "9d5a9093-31ca-49f9-896e-66b10fc6f229",
   "metadata": {},
   "outputs": [
    {
     "name": "stdout",
     "output_type": "stream",
     "text": [
      "['Natural', 'language', 'processing', '(', 'NLP', ')', 'field', 'computer', 'science', ',', 'artificial', 'intelligence', ',', 'linguistics', 'concerned', 'interaction', 'computer', 'human', 'language', '.']\n"
     ]
    }
   ],
   "source": [
    "lemmatized_words=[]\n",
    "for token in no_stopwords_text:\n",
    "    lemmatized=lemmatizer.lemmatize(token)\n",
    "    lemmatized_words.append(lemmatized)\n",
    "\n",
    "print(lemmatized_words)"
   ]
  },
  {
   "cell_type": "code",
   "execution_count": 17,
   "id": "76c4b919-5bfa-43ce-b1e5-4bab35dd5675",
   "metadata": {},
   "outputs": [],
   "source": [
    "vectorizer=TfidfVectorizer()"
   ]
  },
  {
   "cell_type": "code",
   "execution_count": 18,
   "id": "d4272be4-8173-433e-ab7d-4382c30591eb",
   "metadata": {},
   "outputs": [],
   "source": [
    "corpus= [\n",
    "    \"I love to eat pizza\",\n",
    "    \"Pizza is my favorite food\",\n",
    "    \"I enjoy eating pizza with friends\",\n",
    "    \"I like to have pizza for dinner\",\n",
    "    \"Pizza toppings include cheese, pepperoni, and mushrooms\"\n",
    "]"
   ]
  },
  {
   "cell_type": "code",
   "execution_count": 19,
   "id": "f86abc0b-b6cf-429e-a12e-5eaac523fee2",
   "metadata": {},
   "outputs": [],
   "source": [
    "tfidf_matrix=vectorizer.fit_transform(corpus)"
   ]
  },
  {
   "cell_type": "code",
   "execution_count": 20,
   "id": "1db9979d-5278-4859-8216-d9f8a3be6670",
   "metadata": {},
   "outputs": [
    {
     "name": "stdout",
     "output_type": "stream",
     "text": [
      "  (0, 18)\t0.2808823162882302\n",
      "  (0, 3)\t0.5894630806320427\n",
      "  (0, 19)\t0.47557510189256375\n",
      "  (0, 14)\t0.5894630806320427\n",
      "  (1, 7)\t0.48638584746139363\n",
      "  (1, 6)\t0.48638584746139363\n",
      "  (1, 16)\t0.48638584746139363\n",
      "  (1, 12)\t0.48638584746139363\n",
      "  (1, 18)\t0.2317654623904255\n",
      "  (2, 9)\t0.48638584746139363\n",
      "  (2, 21)\t0.48638584746139363\n",
      "  (2, 4)\t0.48638584746139363\n",
      "  (2, 5)\t0.48638584746139363\n",
      "  (2, 18)\t0.2317654623904255\n",
      "  (3, 2)\t0.4527727535876864\n",
      "  (3, 8)\t0.4527727535876864\n",
      "  (3, 10)\t0.4527727535876864\n",
      "  (3, 13)\t0.4527727535876864\n",
      "  (3, 18)\t0.21574864305928557\n",
      "  (3, 19)\t0.3652942067054634\n",
      "  (4, 15)\t0.4007361920444453\n",
      "  (4, 0)\t0.4007361920444453\n",
      "  (4, 17)\t0.4007361920444453\n",
      "  (4, 1)\t0.4007361920444453\n",
      "  (4, 11)\t0.4007361920444453\n",
      "  (4, 20)\t0.4007361920444453\n",
      "  (4, 18)\t0.19095294266992674\n"
     ]
    }
   ],
   "source": [
    "print(tfidf_matrix)"
   ]
  },
  {
   "cell_type": "code",
   "execution_count": 21,
   "id": "fb143745-68d5-4bd9-9cc8-588aee630925",
   "metadata": {},
   "outputs": [],
   "source": [
    "feature_names=vectorizer.get_feature_names_out()"
   ]
  },
  {
   "cell_type": "code",
   "execution_count": 22,
   "id": "ae697107-e848-4c0f-b6b2-bb7139df44a7",
   "metadata": {},
   "outputs": [
    {
     "name": "stdout",
     "output_type": "stream",
     "text": [
      "['and' 'cheese' 'dinner' 'eat' 'eating' 'enjoy' 'favorite' 'food' 'for'\n",
      " 'friends' 'have' 'include' 'is' 'like' 'love' 'mushrooms' 'my'\n",
      " 'pepperoni' 'pizza' 'to' 'toppings' 'with']\n"
     ]
    }
   ],
   "source": [
    "print(feature_names)"
   ]
  },
  {
   "cell_type": "code",
   "execution_count": 23,
   "id": "4cfe6588-0429-456f-b200-7fbbf04753e1",
   "metadata": {},
   "outputs": [
    {
     "name": "stdout",
     "output_type": "stream",
     "text": [
      "TF-IDF representation:\n",
      "and: 0.0\n",
      "cheese: 0.0\n",
      "dinner: 0.0\n",
      "eat: 0.5894630806320427\n",
      "eating: 0.0\n",
      "enjoy: 0.0\n",
      "favorite: 0.0\n",
      "food: 0.0\n",
      "for: 0.0\n",
      "friends: 0.0\n",
      "have: 0.0\n",
      "include: 0.0\n",
      "is: 0.0\n",
      "like: 0.0\n",
      "love: 0.5894630806320427\n",
      "mushrooms: 0.0\n",
      "my: 0.0\n",
      "pepperoni: 0.0\n",
      "pizza: 0.2808823162882302\n",
      "to: 0.47557510189256375\n",
      "toppings: 0.0\n",
      "with: 0.0\n"
     ]
    }
   ],
   "source": [
    "tfidf_values = tfidf_matrix.toarray()[0]\n",
    "\n",
    "# Create a dictionary to store TF-IDF values for each term\n",
    "tfidf_dict = dict(zip(feature_names, tfidf_values))\n",
    "\n",
    "print(\"TF-IDF representation:\")\n",
    "for term, tfidf in tfidf_dict.items():\n",
    "    print(f\"{term}: {tfidf}\")"
   ]
  },
  {
   "cell_type": "code",
   "execution_count": null,
   "id": "a6551855-866a-4e6b-9baa-95e572a85069",
   "metadata": {},
   "outputs": [],
   "source": []
  }
 ],
 "metadata": {
  "kernelspec": {
   "display_name": "Python 3 (ipykernel)",
   "language": "python",
   "name": "python3"
  },
  "language_info": {
   "codemirror_mode": {
    "name": "ipython",
    "version": 3
   },
   "file_extension": ".py",
   "mimetype": "text/x-python",
   "name": "python",
   "nbconvert_exporter": "python",
   "pygments_lexer": "ipython3",
   "version": "3.11.9"
  }
 },
 "nbformat": 4,
 "nbformat_minor": 5
}
